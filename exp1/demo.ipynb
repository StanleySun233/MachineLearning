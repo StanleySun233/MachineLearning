{
 "cells": [
  {
   "cell_type": "code",
   "execution_count": 1,
   "metadata": {
    "collapsed": true
   },
   "outputs": [],
   "source": [
    "import pandas as pd\n",
    "from sklearn.metrics import confusion_matrix,classification_report\n",
    "import numpy as np\n",
    "import matplotlib.pyplot as plt\n",
    "from sklearn import metrics\n",
    "plt.rcParams['font.sans-serif'] = ['SimHei']\n",
    "plt.rcParams['axes.unicode_minus'] = False"
   ]
  },
  {
   "cell_type": "code",
   "execution_count": 2,
   "metadata": {
    "pycharm": {
     "name": "#%%\n"
    }
   },
   "outputs": [
    {
     "data": {
      "text/plain": "      ID  Data label  Prediction result      P0      P1\n0  A0001           0                  1  0.2147  0.7853\n1  A0002           0                  1  0.4736  0.5264\n2  A0003           0                  1  0.3018  0.6982\n3  A0004           0                  0  0.8745  0.1255\n4  A0005           1                  0  0.7436  0.2564",
      "text/html": "<div>\n<style scoped>\n    .dataframe tbody tr th:only-of-type {\n        vertical-align: middle;\n    }\n\n    .dataframe tbody tr th {\n        vertical-align: top;\n    }\n\n    .dataframe thead th {\n        text-align: right;\n    }\n</style>\n<table border=\"1\" class=\"dataframe\">\n  <thead>\n    <tr style=\"text-align: right;\">\n      <th></th>\n      <th>ID</th>\n      <th>Data label</th>\n      <th>Prediction result</th>\n      <th>P0</th>\n      <th>P1</th>\n    </tr>\n  </thead>\n  <tbody>\n    <tr>\n      <th>0</th>\n      <td>A0001</td>\n      <td>0</td>\n      <td>1</td>\n      <td>0.2147</td>\n      <td>0.7853</td>\n    </tr>\n    <tr>\n      <th>1</th>\n      <td>A0002</td>\n      <td>0</td>\n      <td>1</td>\n      <td>0.4736</td>\n      <td>0.5264</td>\n    </tr>\n    <tr>\n      <th>2</th>\n      <td>A0003</td>\n      <td>0</td>\n      <td>1</td>\n      <td>0.3018</td>\n      <td>0.6982</td>\n    </tr>\n    <tr>\n      <th>3</th>\n      <td>A0004</td>\n      <td>0</td>\n      <td>0</td>\n      <td>0.8745</td>\n      <td>0.1255</td>\n    </tr>\n    <tr>\n      <th>4</th>\n      <td>A0005</td>\n      <td>1</td>\n      <td>0</td>\n      <td>0.7436</td>\n      <td>0.2564</td>\n    </tr>\n  </tbody>\n</table>\n</div>"
     },
     "execution_count": 2,
     "metadata": {},
     "output_type": "execute_result"
    }
   ],
   "source": [
    "df = pd.read_excel('./data/PredictionResult.xlsx')\n",
    "df.head()"
   ]
  },
  {
   "cell_type": "markdown",
   "metadata": {
    "pycharm": {
     "name": "#%% md\n"
    }
   },
   "source": [
    "首先，自己完成二分类模型的混淆矩阵函数，输出TP、FP、TN、FN。"
   ]
  },
  {
   "cell_type": "code",
   "execution_count": 3,
   "metadata": {
    "pycharm": {
     "name": "#%%\n"
    }
   },
   "outputs": [],
   "source": [
    "def confusion_matrix_binary1(y_true,y_pred):\n",
    "    _TP = 0\n",
    "    _FP = 0\n",
    "    _TN = 0\n",
    "    _FN = 0\n",
    "    for i in range(len(y_true)):\n",
    "        if y_true[i] == y_pred[i]:\n",
    "            if y_true == 1:\n",
    "                _TP += 1 # 被模型预测为正类的正样本\n",
    "            else:\n",
    "                _TN += 1 # 被模型预测为负类的负样本\n",
    "        else:\n",
    "            if y_true[i] == 1 and y_pred[i] == 0:\n",
    "                _FN += 1 # 被模型预测为负类的正样本\n",
    "            else:\n",
    "                _FP += 1 # 被模型预测为正类的负样本\n",
    "    return (_TP,_TN),(_FP,_FN)\n",
    "\n",
    "\n",
    "def confusion_matrix_binary(data:pd.DataFrame):\n",
    "    _TP = data[(data['Data label'] == 1) & (data['Prediction result'] == 1)]['ID'].count()\n",
    "    # 被模型预测为正类的正样本\n",
    "    _TN = data[(data['Data label'] == 0) & (data['Prediction result'] == 0)]['ID'].count()\n",
    "    # 被模型预测为负类的负样本\n",
    "    _FN = data[(data['Data label'] == 1) & (data['Prediction result'] == 0)]['ID'].count()\n",
    "    # 被模型预测为负类的正样本\n",
    "    _FP = data[(data['Data label'] == 0) & (data['Prediction result'] == 1)]['ID'].count()\n",
    "    # 被模型预测为正类的负样本\n",
    "    return (_TP,_TN),(_FP,_FN)"
   ]
  },
  {
   "cell_type": "code",
   "execution_count": 4,
   "metadata": {
    "pycharm": {
     "name": "#%%\n"
    }
   },
   "outputs": [
    {
     "data": {
      "text/plain": "array([[93, 61],\n       [25, 71]], dtype=int64)"
     },
     "execution_count": 4,
     "metadata": {},
     "output_type": "execute_result"
    }
   ],
   "source": [
    "(TP,TN),(FP,FN) = confusion_matrix_binary(df)\n",
    "cf_mx_self = np.array([[TN,FP],[FN,TP]])\n",
    "cf_mx_self"
   ]
  },
  {
   "cell_type": "code",
   "execution_count": 5,
   "metadata": {
    "pycharm": {
     "name": "#%%\n"
    }
   },
   "outputs": [
    {
     "data": {
      "text/plain": "array([[93, 61],\n       [25, 71]], dtype=int64)"
     },
     "execution_count": 5,
     "metadata": {},
     "output_type": "execute_result"
    }
   ],
   "source": [
    "cf_mx_sklearn = confusion_matrix(df['Data label'].values.tolist(),df['Prediction result'].values.tolist())\n",
    "cf_mx_sklearn"
   ]
  },
  {
   "cell_type": "markdown",
   "metadata": {
    "pycharm": {
     "name": "#%% md\n"
    }
   },
   "source": [
    "比较sklearn的库，自行完成的confusion_matrix_binary函数和正确结果一致。"
   ]
  },
  {
   "cell_type": "code",
   "execution_count": 6,
   "metadata": {
    "pycharm": {
     "name": "#%%\n"
    }
   },
   "outputs": [
    {
     "data": {
      "text/plain": "<Figure size 480x480 with 2 Axes>",
      "image/png": "[encoded data removed]"
     },
     "metadata": {},
     "output_type": "display_data"
    }
   ],
   "source": [
    "plt.matshow(cf_mx_sklearn,cmap=plt.cm.Oranges)\n",
    "plt.xticks(range(2),['坏瓜','好瓜'])\n",
    "plt.yticks(range(2),['坏瓜','好瓜'])\n",
    "for i in range(len(cf_mx_sklearn)):\n",
    "    for j in range(len(cf_mx_sklearn[i])):\n",
    "        plt.text(j,i,str(cf_mx_sklearn[i][j]))\n",
    "plt.colorbar()\n",
    "plt.xlabel('预测标签')\n",
    "plt.ylabel('真实标签')\n",
    "# plt.title('图5 预测结果的混淆矩阵')\n",
    "plt.show()"
   ]
  },
  {
   "cell_type": "code",
   "execution_count": 7,
   "metadata": {
    "pycharm": {
     "name": "#%%\n"
    }
   },
   "outputs": [
    {
     "name": "stdout",
     "output_type": "stream",
     "text": [
      "西瓜预测结果\n",
      "准确率=\t0.656\n",
      "错误率=\t0.344\n"
     ]
    }
   ],
   "source": [
    "def binary_predict_loss(data:pd.DataFrame):\n",
    "    _count = data['ID'].count()\n",
    "    _false_label = data[data['Data label'] != data['Prediction result']]['ID'].count()\n",
    "    return _false_label / _count\n",
    "\n",
    "\n",
    "def binary_predict_accuracy(data:pd.DataFrame):\n",
    "    _count = data['ID'].count()\n",
    "    _true_label = data[data['Data label'] == data['Prediction result']]['ID'].count()\n",
    "    return _true_label / _count\n",
    "\n",
    "\n",
    "val_loss = binary_predict_loss(df)\n",
    "val_acc = binary_predict_accuracy(df)\n",
    "print(f\"西瓜预测结果\\n准确率=\\t{val_acc}\\n错误率=\\t{val_loss}\")"
   ]
  },
  {
   "cell_type": "code",
   "execution_count": 8,
   "metadata": {
    "pycharm": {
     "name": "#%%\n"
    }
   },
   "outputs": [
    {
     "name": "stdout",
     "output_type": "stream",
     "text": [
      "西瓜预测结果\n",
      "Precision=\t0.54\n",
      "Recall=\t\t0.74\n",
      "F1-score=\t0.62\n"
     ]
    }
   ],
   "source": [
    "def recall_precision_F1(data):\n",
    "    (_TP,_TN),(_FP,_FN) = confusion_matrix_binary(data)\n",
    "    _P = _TP / (_TP+_FP)\n",
    "    _R = _TP / (_TP+_FN)\n",
    "    _F1 = (2*_P*_R)/(_P+_R)\n",
    "    return round(_R,2),round(_P,2),round(_F1,2)\n",
    "\n",
    "\n",
    "R,P,F1 = recall_precision_F1(df)\n",
    "print(f\"西瓜预测结果\\nPrecision=\\t{P}\\nRecall=\\t\\t{R}\\nF1-score=\\t{F1}\")"
   ]
  },
  {
   "cell_type": "code",
   "execution_count": 9,
   "metadata": {
    "pycharm": {
     "name": "#%%\n"
    }
   },
   "outputs": [
    {
     "name": "stdout",
     "output_type": "stream",
     "text": [
      "              precision    recall  f1-score   support\n",
      "\n",
      "           0       0.79      0.60      0.68       154\n",
      "           1       0.54      0.74      0.62        96\n",
      "\n",
      "    accuracy                           0.66       250\n",
      "   macro avg       0.66      0.67      0.65       250\n",
      "weighted avg       0.69      0.66      0.66       250\n",
      "\n"
     ]
    }
   ],
   "source": [
    "print(classification_report(df['Data label'].values.tolist(),df['Prediction result'].values.tolist()))"
   ]
  },
  {
   "cell_type": "code",
   "execution_count": 10,
   "metadata": {
    "pycharm": {
     "name": "#%%\n"
    }
   },
   "outputs": [],
   "source": [
    "y = df['Data label'].values.tolist()\n",
    "scores = df['P1'].values.tolist()\n",
    "fpr, tpr, thresholds = metrics.roc_curve(y, scores, pos_label=1)\n",
    "auc = metrics.auc(fpr, tpr)"
   ]
  },
  {
   "cell_type": "code",
   "execution_count": 11,
   "metadata": {
    "pycharm": {
     "name": "#%%\n"
    }
   },
   "outputs": [
    {
     "data": {
      "text/plain": "<Figure size 640x480 with 1 Axes>",
      "image/png": "[encoded data removed]"
     },
     "metadata": {},
     "output_type": "display_data"
    }
   ],
   "source": [
    "plt.figure()\n",
    "plt.plot(fpr, tpr, color='lightpink', label=f'ROC曲线 (AUC={round(auc,2)})')\n",
    "plt.plot([0, 1], [0, 1], color='lightblue' , linestyle='--')\n",
    "plt.xlim([.0, 1.05])\n",
    "plt.ylim([.0, 1.05])\n",
    "plt.xlabel('假阳率')\n",
    "plt.ylabel('真阳率')\n",
    "# plt.title('ROC曲线')\n",
    "plt.legend(loc=\"lower right\")\n",
    "plt.grid(True)\n",
    "plt.show()"
   ]
  }
 ],
 "metadata": {
  "kernelspec": {
   "name": "machinelearning",
   "language": "python",
   "display_name": "MachineLearning"
  },
  "language_info": {
   "codemirror_mode": {
    "name": "ipython",
    "version": 3
   },
   "file_extension": ".py",
   "mimetype": "text/x-python",
   "name": "python",
   "nbconvert_exporter": "python",
   "pygments_lexer": "ipython3",
   "version": "3.7.13"
  }
 },
 "nbformat": 4,
 "nbformat_minor": 1
}